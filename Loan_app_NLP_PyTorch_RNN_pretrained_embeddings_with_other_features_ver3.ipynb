{
 "cells": [
  {
   "cell_type": "code",
   "execution_count": 1,
   "metadata": {},
   "outputs": [
    {
     "name": "stderr",
     "output_type": "stream",
     "text": [
      "[nltk_data] Downloading package punkt to\n",
      "[nltk_data]     C:\\Users\\Tsenguunn\\AppData\\Roaming\\nltk_data...\n",
      "[nltk_data]   Package punkt is already up-to-date!\n"
     ]
    },
    {
     "data": {
      "text/plain": [
       "True"
      ]
     },
     "execution_count": 1,
     "metadata": {},
     "output_type": "execute_result"
    }
   ],
   "source": [
    "import numpy as np\n",
    "import pandas as pd\n",
    "import matplotlib.pyplot as plt\n",
    "import math\n",
    "\n",
    "import time\n",
    "\n",
    "%matplotlib inline\n",
    "\n",
    "\n",
    "from spacy.lang.en import English\n",
    "\n",
    "\n",
    "\n",
    "import bz2\n",
    "from collections import Counter\n",
    "import re\n",
    "from nltk.tokenize import word_tokenize\n",
    "import nltk\n",
    "import numpy as np\n",
    "nltk.download('punkt')\n",
    "\n"
   ]
  },
  {
   "cell_type": "code",
   "execution_count": 3,
   "metadata": {},
   "outputs": [
    {
     "data": {
      "text/plain": [
       "'\\nmain_data = pd.read_csv( \"C://Tsenguun/datasets/Lending club/LoanStats3a_securev1.csv\", delimiter=\",\" )\\n\\npd.set_option(\\'display.max_columns\\', None)\\n\\ndata_1 = main_data[ [ \\'loan_amnt\\', \\'funded_amnt\\', \\'term\\', \\'int_rate\\', \\'installment\\',                      \\'emp_title\\', \\'emp_length\\', \\'home_ownership\\',                      \\'annual_inc\\', \\'verification_status\\', \\'loan_status\\', \\'desc\\',                      \\'zip_code\\', \\'addr_state\\', \\'delinq_2yrs\\', \\'mths_since_last_delinq\\',                      \\'mths_since_last_record\\', \\'total_pymnt\\', \\'recoveries\\', \\'last_pymnt_d\\',                      \\'last_pymnt_amnt\\', \\'acc_now_delinq\\', \\'chargeoff_within_12_mths\\',                      \\'delinq_amnt\\' ] ]\\n\\n\\ndata_2 = data_1.loc[ ~( data_1[\\'desc\\'].isnull() ) ].reset_index(drop=True)\\n\\n\\ndata_2 = data_2[ data_2[\\'loan_status\\'].isin([ \\'Charged Off\\', \\'Fully Paid\\', \\'Does not meet the credit policy. Status:Charged Off\\', \\'Does not meet the credit policy. Status:Fully Paid\\' ]) ]\\ndata_2.reset_index(drop=True, inplace=True)\\n\\ndata_2[\\'y_hat\\'] = 1\\ndata_2.loc[ data_2[\\'loan_status\\'].isin([ \\'Charged Off\\', \\'Does not meet the credit policy. Status:Charged Off\\']), \\'y_hat\\' ] = 0\\n\\ndata_2.shape\\n'"
      ]
     },
     "execution_count": 3,
     "metadata": {},
     "output_type": "execute_result"
    }
   ],
   "source": [
    "\n",
    "main_data = pd.read_csv( \"C://Tsenguun/datasets/Lending club/LoanStats3a_securev1.csv\", delimiter=\",\" )\n",
    "\n",
    "pd.set_option('display.max_columns', None)\n",
    "\n",
    "data_1 = main_data[ [ 'loan_amnt', 'funded_amnt', 'term', 'int_rate', 'installment', \\\n",
    "                     'emp_title', 'emp_length', 'home_ownership', \\\n",
    "                     'annual_inc', 'verification_status', 'loan_status', 'desc', \\\n",
    "                     'zip_code', 'addr_state', 'delinq_2yrs', 'mths_since_last_delinq', \\\n",
    "                     'mths_since_last_record', 'total_pymnt', 'recoveries', 'last_pymnt_d', \\\n",
    "                     'last_pymnt_amnt', 'acc_now_delinq', 'chargeoff_within_12_mths', \\\n",
    "                     'delinq_amnt' ] ]\n",
    "\n",
    "\n",
    "data_2 = data_1.loc[ ~( data_1['desc'].isnull() ) ].reset_index(drop=True)\n",
    "\n",
    "\n",
    "data_2 = data_2[ data_2['loan_status'].isin([ 'Charged Off', 'Fully Paid', 'Does not meet the credit policy. Status:Charged Off', 'Does not meet the credit policy. Status:Fully Paid' ]) ]\n",
    "data_2.reset_index(drop=True, inplace=True)\n",
    "\n",
    "data_2['y_hat'] = 1\n",
    "data_2.loc[ data_2['loan_status'].isin([ 'Charged Off', 'Does not meet the credit policy. Status:Charged Off']), 'y_hat' ] = 0\n",
    "\n",
    "data_2.shape\n"
   ]
  },
  {
   "cell_type": "code",
   "execution_count": 3,
   "metadata": {},
   "outputs": [
    {
     "name": "stderr",
     "output_type": "stream",
     "text": [
      "C:\\Users\\Tsenguunn\\AppData\\Local\\Temp\\ipykernel_179936\\2830042887.py:7: SettingWithCopyWarning: \n",
      "A value is trying to be set on a copy of a slice from a DataFrame\n",
      "\n",
      "See the caveats in the documentation: https://pandas.pydata.org/pandas-docs/stable/user_guide/indexing.html#returning-a-view-versus-a-copy\n",
      "  data_3.dropna(inplace=True)\n"
     ]
    },
    {
     "data": {
      "text/plain": [
       "loan_amnt                   0.0\n",
       "funded_amnt                 0.0\n",
       "delinq_amnt                 0.0\n",
       "chargeoff_within_12_mths    0.0\n",
       "acc_now_delinq              0.0\n",
       "last_pymnt_amnt             0.0\n",
       "last_pymnt_d                0.0\n",
       "recoveries                  0.0\n",
       "total_pymnt                 0.0\n",
       "delinq_2yrs                 0.0\n",
       "addr_state                  0.0\n",
       "zip_code                    0.0\n",
       "desc                        0.0\n",
       "loan_status                 0.0\n",
       "verification_status         0.0\n",
       "annual_inc                  0.0\n",
       "home_ownership              0.0\n",
       "emp_length                  0.0\n",
       "installment                 0.0\n",
       "int_rate                    0.0\n",
       "term                        0.0\n",
       "y_hat                       0.0\n",
       "dtype: float64"
      ]
     },
     "execution_count": 3,
     "metadata": {},
     "output_type": "execute_result"
    }
   ],
   "source": [
    "data_3 = data_2[['loan_amnt', 'funded_amnt', 'term', 'int_rate', 'installment',\n",
    "       'emp_length', 'home_ownership', 'annual_inc',\n",
    "       'verification_status', 'loan_status', 'desc', 'zip_code', 'addr_state',\n",
    "       'delinq_2yrs', 'total_pymnt', 'recoveries', 'last_pymnt_d', 'last_pymnt_amnt',\n",
    "       'acc_now_delinq', 'chargeoff_within_12_mths', 'delinq_amnt', 'y_hat']]\n",
    "\n",
    "data_3.dropna(inplace=True)\n",
    "\n",
    "missing_props_2 = data_3.isna().sum() / len(data_3)\n",
    "missing_props_2.sort_values(ascending=False)"
   ]
  },
  {
   "cell_type": "code",
   "execution_count": 4,
   "metadata": {},
   "outputs": [],
   "source": [
    "data_3 = data_3.sample(frac=1).reset_index(drop=True)"
   ]
  },
  {
   "cell_type": "code",
   "execution_count": 5,
   "metadata": {},
   "outputs": [],
   "source": [
    "data_4 = pd.get_dummies(data_3, columns=['term'], prefix='term', dtype=float)\n",
    "\n",
    "data_4['int_rate_num'] = data_4.apply( lambda x: float( x['int_rate'].replace(\"%\", \"\") ) / 100, axis=1 )\n",
    "data_4.drop(columns=['int_rate'], inplace=True)\n",
    "\n",
    "data_4 = pd.get_dummies(data_4, columns=['emp_length'], prefix='emp_length', dtype=float)\n",
    "data_4 = pd.get_dummies(data_4, columns=['home_ownership'], prefix='home_ownership', dtype=float)\n",
    "data_4 = pd.get_dummies(data_4, columns=['verification_status'], prefix='verification_status', dtype=float)\n",
    "\n",
    "data_4.drop(columns=['loan_status'], inplace=True)\n",
    "data_4.drop(columns=['zip_code'], inplace=True)\n",
    "data_4.drop(columns=['addr_state'], inplace=True)\n",
    "data_4.drop(columns=['last_pymnt_d'], inplace=True)\n",
    "\n",
    "data_4['y_hat'] = data_4['y_hat'].astype(float)\n"
   ]
  },
  {
   "cell_type": "code",
   "execution_count": 6,
   "metadata": {},
   "outputs": [
    {
     "data": {
      "text/plain": [
       "loan_amnt                              float64\n",
       "funded_amnt                            float64\n",
       "installment                            float64\n",
       "annual_inc                             float64\n",
       "desc                                    object\n",
       "delinq_2yrs                            float64\n",
       "total_pymnt                            float64\n",
       "recoveries                             float64\n",
       "last_pymnt_amnt                        float64\n",
       "acc_now_delinq                         float64\n",
       "chargeoff_within_12_mths               float64\n",
       "delinq_amnt                            float64\n",
       "y_hat                                  float64\n",
       "term_ 36 months                        float64\n",
       "term_ 60 months                        float64\n",
       "int_rate_num                           float64\n",
       "emp_length_1 year                      float64\n",
       "emp_length_10+ years                   float64\n",
       "emp_length_2 years                     float64\n",
       "emp_length_3 years                     float64\n",
       "emp_length_4 years                     float64\n",
       "emp_length_5 years                     float64\n",
       "emp_length_6 years                     float64\n",
       "emp_length_7 years                     float64\n",
       "emp_length_8 years                     float64\n",
       "emp_length_9 years                     float64\n",
       "emp_length_< 1 year                    float64\n",
       "home_ownership_MORTGAGE                float64\n",
       "home_ownership_NONE                    float64\n",
       "home_ownership_OTHER                   float64\n",
       "home_ownership_OWN                     float64\n",
       "home_ownership_RENT                    float64\n",
       "verification_status_Not Verified       float64\n",
       "verification_status_Source Verified    float64\n",
       "verification_status_Verified           float64\n",
       "dtype: object"
      ]
     },
     "execution_count": 6,
     "metadata": {},
     "output_type": "execute_result"
    }
   ],
   "source": [
    "data_4.dtypes"
   ]
  },
  {
   "cell_type": "code",
   "execution_count": 7,
   "metadata": {},
   "outputs": [
    {
     "name": "stdout",
     "output_type": "stream",
     "text": [
      "val_len: 4218, test_len: 4218, train_len: 19688\n"
     ]
    },
    {
     "name": "stderr",
     "output_type": "stream",
     "text": [
      "C:\\Users\\Tsenguunn\\AppData\\Local\\Temp\\ipykernel_179936\\4048907440.py:2: DeprecationWarning: `np.int` is a deprecated alias for the builtin `int`. To silence this warning, use `int` by itself. Doing this will not modify any behavior and is safe. When replacing `np.int`, you may wish to use e.g. `np.int64` or `np.int32` to specify the precision. If you wish to review your current use, check the release note link for additional information.\n",
      "Deprecated in NumPy 1.20; for more details and guidance: https://numpy.org/devdocs/release/1.20.0-notes.html#deprecations\n",
      "  test_len = np.int(np.floor(data_len*0.15))\n",
      "C:\\Users\\Tsenguunn\\AppData\\Local\\Temp\\ipykernel_179936\\4048907440.py:3: DeprecationWarning: `np.int` is a deprecated alias for the builtin `int`. To silence this warning, use `int` by itself. Doing this will not modify any behavior and is safe. When replacing `np.int`, you may wish to use e.g. `np.int64` or `np.int32` to specify the precision. If you wish to review your current use, check the release note link for additional information.\n",
      "Deprecated in NumPy 1.20; for more details and guidance: https://numpy.org/devdocs/release/1.20.0-notes.html#deprecations\n",
      "  val_len = np.int(np.floor(data_len*0.15))\n"
     ]
    }
   ],
   "source": [
    "data_len = data_4.shape[0]\n",
    "test_len = np.int(np.floor(data_len*0.15))\n",
    "val_len = np.int(np.floor(data_len*0.15))\n",
    "train_len = data_len - test_len - val_len\n",
    "\n",
    "print(f\"val_len: {val_len}, test_len: {test_len}, train_len: {train_len}\")"
   ]
  },
  {
   "cell_type": "code",
   "execution_count": null,
   "metadata": {},
   "outputs": [],
   "source": []
  },
  {
   "cell_type": "code",
   "execution_count": 8,
   "metadata": {},
   "outputs": [],
   "source": [
    "nlp = English()"
   ]
  },
  {
   "cell_type": "code",
   "execution_count": null,
   "metadata": {},
   "outputs": [],
   "source": []
  },
  {
   "cell_type": "code",
   "execution_count": 9,
   "metadata": {},
   "outputs": [
    {
     "data": {
      "text/plain": [
       "(19688, 35)"
      ]
     },
     "execution_count": 9,
     "metadata": {},
     "output_type": "execute_result"
    }
   ],
   "source": [
    "tr_dat = data_4.iloc[0:train_len, :]\n",
    "tr_dat.shape"
   ]
  },
  {
   "cell_type": "code",
   "execution_count": 10,
   "metadata": {},
   "outputs": [
    {
     "data": {
      "text/plain": [
       "(4218, 35)"
      ]
     },
     "execution_count": 10,
     "metadata": {},
     "output_type": "execute_result"
    }
   ],
   "source": [
    "val_dat = data_4.iloc[train_len:train_len+val_len, :]\n",
    "val_dat.shape"
   ]
  },
  {
   "cell_type": "code",
   "execution_count": 11,
   "metadata": {},
   "outputs": [
    {
     "data": {
      "text/plain": [
       "(4218, 35)"
      ]
     },
     "execution_count": 11,
     "metadata": {},
     "output_type": "execute_result"
    }
   ],
   "source": [
    "te_dat = data_4.iloc[train_len+val_len:, :]\n",
    "te_dat.shape"
   ]
  },
  {
   "cell_type": "code",
   "execution_count": null,
   "metadata": {},
   "outputs": [],
   "source": []
  },
  {
   "cell_type": "code",
   "execution_count": 12,
   "metadata": {},
   "outputs": [],
   "source": [
    "def is_number(s):\n",
    "    try:\n",
    "        float(s)\n",
    "        return True\n",
    "    except ValueError:\n",
    "        return False"
   ]
  },
  {
   "cell_type": "code",
   "execution_count": null,
   "metadata": {},
   "outputs": [],
   "source": []
  },
  {
   "cell_type": "code",
   "execution_count": 13,
   "metadata": {},
   "outputs": [],
   "source": [
    "#del words\n",
    "\n",
    "len_tr = tr_dat.shape[0]\n",
    "words = Counter()\n",
    "desc_words_tr = []"
   ]
  },
  {
   "cell_type": "code",
   "execution_count": 14,
   "metadata": {},
   "outputs": [],
   "source": [
    "for i in range(len_tr):\n",
    "    \n",
    "    \n",
    "    token_list = []\n",
    "    ind = -1\n",
    "    \n",
    "    test1 = nlp(tr_dat['desc'][i])\n",
    "    \n",
    "    for i, token in enumerate(test1):\n",
    "        if i >= 5:\n",
    "            tmp = token.text\n",
    "            tmp = tmp.replace(\"<br\", \"\")\n",
    "            tmp = tmp.replace(\"br/\", \"\")\n",
    "            tmp = tmp.replace(\"/\", \"\")\n",
    "            tmp = tmp.replace(\">\", \"\")\n",
    "            tmp = tmp.replace(\"%\", \"\")\n",
    "            if ( not is_number(tmp) ) and (tmp != '') and (tmp != ' ') and (tmp != '  ') and (tmp != '<') and (tmp != 'br') and (tmp != '/') and (tmp != '(') and (tmp != ')') and (tmp != '&') and (tmp != '*'):\n",
    "            \n",
    "                if tmp == \"Borrower\":\n",
    "                    ind = i + 3\n",
    "                if  i > ind:\n",
    "                    if ( (tmp[-1] == \".\") and (len(tmp) >=2) ):\n",
    "                        token_list.extend( [tmp[:-1].lower(), tmp[-1]] )\n",
    "                        word = tmp[:-1]\n",
    "                        words.update( [word.lower()] )\n",
    "                    else:\n",
    "                        token_list.append( tmp.lower() )\n",
    "                        word = tmp\n",
    "                        words.update( [word.lower()] )\n",
    "                        \n",
    "    desc_words_tr.append(token_list)"
   ]
  },
  {
   "cell_type": "code",
   "execution_count": null,
   "metadata": {},
   "outputs": [],
   "source": []
  },
  {
   "cell_type": "code",
   "execution_count": 15,
   "metadata": {},
   "outputs": [],
   "source": [
    "# Removing the words that only appear once\n",
    "words = {k:v for k,v in words.items() if v>1}"
   ]
  },
  {
   "cell_type": "code",
   "execution_count": 16,
   "metadata": {},
   "outputs": [
    {
     "data": {
      "text/plain": [
       "12389"
      ]
     },
     "execution_count": 16,
     "metadata": {},
     "output_type": "execute_result"
    }
   ],
   "source": [
    "len(words)"
   ]
  },
  {
   "cell_type": "code",
   "execution_count": 17,
   "metadata": {},
   "outputs": [],
   "source": [
    "# Sorting the words according to the number of appearances, with the most common word being first\n",
    "words = sorted(words, key=words.get, reverse=True)"
   ]
  },
  {
   "cell_type": "code",
   "execution_count": 18,
   "metadata": {},
   "outputs": [],
   "source": [
    "# Adding padding and unknown to our vocabulary so that they will be assigned an index\n",
    "words = ['_PAD','_UNK'] + words"
   ]
  },
  {
   "cell_type": "code",
   "execution_count": 19,
   "metadata": {},
   "outputs": [],
   "source": [
    "#del word2idx, idx2word\n",
    "\n",
    "word2idx = {o:i for i,o in enumerate(words)}\n",
    "idx2word = {i:o for i,o in enumerate(words)}"
   ]
  },
  {
   "cell_type": "code",
   "execution_count": 20,
   "metadata": {},
   "outputs": [],
   "source": [
    "#desc_words_tr[19]"
   ]
  },
  {
   "cell_type": "code",
   "execution_count": 21,
   "metadata": {},
   "outputs": [
    {
     "name": "stderr",
     "output_type": "stream",
     "text": [
      "C:\\Users\\Tsenguunn\\AppData\\Local\\Temp\\ipykernel_179936\\3383454956.py:1: SettingWithCopyWarning: \n",
      "A value is trying to be set on a copy of a slice from a DataFrame.\n",
      "Try using .loc[row_indexer,col_indexer] = value instead\n",
      "\n",
      "See the caveats in the documentation: https://pandas.pydata.org/pandas-docs/stable/user_guide/indexing.html#returning-a-view-versus-a-copy\n",
      "  tr_dat['desc_len'] = 0\n"
     ]
    }
   ],
   "source": [
    "tr_dat['desc_len'] = 0"
   ]
  },
  {
   "cell_type": "code",
   "execution_count": 22,
   "metadata": {},
   "outputs": [],
   "source": [
    "for i, sentence in enumerate(desc_words_tr):\n",
    "    # Looking up the mapping dictionary and assigning the index to the respective words\n",
    "    desc_words_tr[i] = [word2idx[word] if word in word2idx else 1 for word in sentence]\n",
    "    tr_dat.loc[i, 'desc_len'] = len(sentence)"
   ]
  },
  {
   "cell_type": "code",
   "execution_count": 23,
   "metadata": {},
   "outputs": [
    {
     "name": "stderr",
     "output_type": "stream",
     "text": [
      "C:\\Users\\Tsenguunn\\AppData\\Local\\Temp\\ipykernel_179936\\54064017.py:1: SettingWithCopyWarning: \n",
      "A value is trying to be set on a copy of a slice from a DataFrame.\n",
      "Try using .loc[row_indexer,col_indexer] = value instead\n",
      "\n",
      "See the caveats in the documentation: https://pandas.pydata.org/pandas-docs/stable/user_guide/indexing.html#returning-a-view-versus-a-copy\n",
      "  tr_dat['desc_len'] = tr_dat['desc_len'].astype(float)\n"
     ]
    }
   ],
   "source": [
    "tr_dat['desc_len'] = tr_dat['desc_len'].astype(float)"
   ]
  },
  {
   "cell_type": "code",
   "execution_count": null,
   "metadata": {},
   "outputs": [],
   "source": []
  },
  {
   "cell_type": "code",
   "execution_count": 24,
   "metadata": {},
   "outputs": [],
   "source": [
    "# Defining a function that either shortens sentences or pads sentences with 0 to a fixed length\n",
    "def pad_input(sentences, seq_len):\n",
    "    features = np.zeros((len(sentences), seq_len),dtype=int)\n",
    "    for ii, review in enumerate(sentences):\n",
    "        if len(review) != 0:\n",
    "            features[ii, -len(review):] = np.array(review)[:seq_len]\n",
    "    return features"
   ]
  },
  {
   "cell_type": "code",
   "execution_count": 25,
   "metadata": {},
   "outputs": [],
   "source": [
    "seq_len = 300"
   ]
  },
  {
   "cell_type": "code",
   "execution_count": 26,
   "metadata": {},
   "outputs": [],
   "source": [
    "desc_words_tr = pad_input(desc_words_tr, seq_len)"
   ]
  },
  {
   "cell_type": "code",
   "execution_count": 27,
   "metadata": {},
   "outputs": [
    {
     "data": {
      "text/plain": [
       "['_PAD',\n",
       " '_PAD',\n",
       " '_PAD',\n",
       " '_PAD',\n",
       " '_PAD',\n",
       " '_PAD',\n",
       " '_PAD',\n",
       " '_PAD',\n",
       " '_PAD',\n",
       " '_PAD',\n",
       " '_PAD',\n",
       " '_PAD',\n",
       " '_PAD',\n",
       " '_PAD',\n",
       " '_PAD',\n",
       " '_PAD',\n",
       " '_PAD',\n",
       " '_PAD',\n",
       " '_PAD',\n",
       " '_PAD',\n",
       " '_PAD',\n",
       " '_PAD',\n",
       " '_PAD',\n",
       " '_PAD',\n",
       " '_PAD',\n",
       " '_PAD',\n",
       " '_PAD',\n",
       " '_PAD',\n",
       " '_PAD',\n",
       " '_PAD',\n",
       " '_PAD',\n",
       " '_PAD',\n",
       " '_PAD',\n",
       " '_PAD',\n",
       " '_PAD',\n",
       " '_PAD',\n",
       " '_PAD',\n",
       " '_PAD',\n",
       " '_PAD',\n",
       " '_PAD',\n",
       " '_PAD',\n",
       " '_PAD',\n",
       " '_PAD',\n",
       " '_PAD',\n",
       " '_PAD',\n",
       " '_PAD',\n",
       " '_PAD',\n",
       " '_PAD',\n",
       " '_PAD',\n",
       " '_PAD',\n",
       " '_PAD',\n",
       " '_PAD',\n",
       " '_PAD',\n",
       " '_PAD',\n",
       " '_PAD',\n",
       " '_PAD',\n",
       " '_PAD',\n",
       " '_PAD',\n",
       " '_PAD',\n",
       " '_PAD',\n",
       " '_PAD',\n",
       " '_PAD',\n",
       " '_PAD',\n",
       " '_PAD',\n",
       " '_PAD',\n",
       " '_PAD',\n",
       " '_PAD',\n",
       " '_PAD',\n",
       " '_PAD',\n",
       " '_PAD',\n",
       " '_PAD',\n",
       " '_PAD',\n",
       " '_PAD',\n",
       " '_PAD',\n",
       " '_PAD',\n",
       " '_PAD',\n",
       " '_PAD',\n",
       " '_PAD',\n",
       " '_PAD',\n",
       " '_PAD',\n",
       " '_PAD',\n",
       " '_PAD',\n",
       " '_PAD',\n",
       " '_PAD',\n",
       " '_PAD',\n",
       " '_PAD',\n",
       " '_PAD',\n",
       " '_PAD',\n",
       " '_PAD',\n",
       " '_PAD',\n",
       " '_PAD',\n",
       " '_PAD',\n",
       " '_PAD',\n",
       " '_PAD',\n",
       " '_PAD',\n",
       " '_PAD',\n",
       " '_PAD',\n",
       " '_PAD',\n",
       " '_PAD',\n",
       " '_PAD',\n",
       " '_PAD',\n",
       " '_PAD',\n",
       " '_PAD',\n",
       " '_PAD',\n",
       " '_PAD',\n",
       " '_PAD',\n",
       " '_PAD',\n",
       " '_PAD',\n",
       " '_PAD',\n",
       " '_PAD',\n",
       " '_PAD',\n",
       " '_PAD',\n",
       " '_PAD',\n",
       " '_PAD',\n",
       " '_PAD',\n",
       " '_PAD',\n",
       " '_PAD',\n",
       " '_PAD',\n",
       " '_PAD',\n",
       " '_PAD',\n",
       " '_PAD',\n",
       " '_PAD',\n",
       " '_PAD',\n",
       " '_PAD',\n",
       " '_PAD',\n",
       " '_PAD',\n",
       " '_PAD',\n",
       " '_PAD',\n",
       " '_PAD',\n",
       " '_PAD',\n",
       " '_PAD',\n",
       " '_PAD',\n",
       " '_PAD',\n",
       " '_PAD',\n",
       " '_PAD',\n",
       " '_PAD',\n",
       " '_PAD',\n",
       " '_PAD',\n",
       " '_PAD',\n",
       " '_PAD',\n",
       " '_PAD',\n",
       " '_PAD',\n",
       " '_PAD',\n",
       " '_PAD',\n",
       " '_PAD',\n",
       " '_PAD',\n",
       " '_PAD',\n",
       " '_PAD',\n",
       " '_PAD',\n",
       " '_PAD',\n",
       " '_PAD',\n",
       " '_PAD',\n",
       " '_PAD',\n",
       " '_PAD',\n",
       " '_PAD',\n",
       " '_PAD',\n",
       " '_PAD',\n",
       " '_PAD',\n",
       " '_PAD',\n",
       " '_PAD',\n",
       " '_PAD',\n",
       " '_PAD',\n",
       " '_PAD',\n",
       " '_PAD',\n",
       " '_PAD',\n",
       " '_PAD',\n",
       " '_PAD',\n",
       " '_PAD',\n",
       " '_PAD',\n",
       " '_PAD',\n",
       " '_PAD',\n",
       " '_PAD',\n",
       " '_PAD',\n",
       " '_PAD',\n",
       " '_PAD',\n",
       " '_PAD',\n",
       " '_PAD',\n",
       " '_PAD',\n",
       " '_PAD',\n",
       " '_PAD',\n",
       " '_PAD',\n",
       " '_PAD',\n",
       " '_PAD',\n",
       " '_PAD',\n",
       " '_PAD',\n",
       " '_PAD',\n",
       " '_PAD',\n",
       " '_PAD',\n",
       " '_PAD',\n",
       " '_PAD',\n",
       " '_PAD',\n",
       " '_PAD',\n",
       " '_PAD',\n",
       " '_PAD',\n",
       " '_PAD',\n",
       " '_PAD',\n",
       " '_PAD',\n",
       " '_PAD',\n",
       " '_PAD',\n",
       " '_PAD',\n",
       " '_PAD',\n",
       " '_PAD',\n",
       " '_PAD',\n",
       " '_PAD',\n",
       " '_PAD',\n",
       " '_PAD',\n",
       " '_PAD',\n",
       " '_PAD',\n",
       " '_PAD',\n",
       " '_PAD',\n",
       " '_PAD',\n",
       " '_PAD',\n",
       " '_PAD',\n",
       " '_PAD',\n",
       " '_PAD',\n",
       " '_PAD',\n",
       " '_PAD',\n",
       " '_PAD',\n",
       " '_PAD',\n",
       " '_PAD',\n",
       " '_PAD',\n",
       " '_PAD',\n",
       " '_PAD',\n",
       " '_PAD',\n",
       " '_PAD',\n",
       " '_PAD',\n",
       " '_PAD',\n",
       " '_PAD',\n",
       " '_PAD',\n",
       " '_PAD',\n",
       " '_PAD',\n",
       " '_PAD',\n",
       " '_PAD',\n",
       " '_PAD',\n",
       " '_PAD',\n",
       " '_PAD',\n",
       " '_PAD',\n",
       " '_PAD',\n",
       " '_PAD',\n",
       " '_PAD',\n",
       " '_PAD',\n",
       " '_PAD',\n",
       " '_PAD',\n",
       " '_PAD',\n",
       " '_PAD',\n",
       " '_PAD',\n",
       " '_PAD',\n",
       " 'after',\n",
       " 'a',\n",
       " 'rough',\n",
       " 'few',\n",
       " 'years',\n",
       " 'financially',\n",
       " 'i',\n",
       " 'have',\n",
       " 'a',\n",
       " 'accumulated',\n",
       " 'some',\n",
       " 'credit',\n",
       " 'card',\n",
       " 'debt',\n",
       " '.',\n",
       " 'now',\n",
       " 'that',\n",
       " 'my',\n",
       " 'job',\n",
       " 'and',\n",
       " 'monthly',\n",
       " 'financials',\n",
       " 'are',\n",
       " 'stable',\n",
       " ',',\n",
       " 'i',\n",
       " 'would',\n",
       " 'like',\n",
       " 'to',\n",
       " 'pay',\n",
       " 'off',\n",
       " 'all',\n",
       " 'the',\n",
       " 'cards',\n",
       " 'with',\n",
       " 'a',\n",
       " 'lower',\n",
       " 'interest',\n",
       " 'loan',\n",
       " 'so',\n",
       " 'that',\n",
       " 'i',\n",
       " 'can',\n",
       " 'leave',\n",
       " 'them',\n",
       " 'behind',\n",
       " 'and',\n",
       " 'make',\n",
       " 'my',\n",
       " 'way',\n",
       " 'out',\n",
       " 'of',\n",
       " 'debt.null']"
      ]
     },
     "execution_count": 27,
     "metadata": {},
     "output_type": "execute_result"
    }
   ],
   "source": [
    "[idx2word[ww] for ww in desc_words_tr[2][:]]"
   ]
  },
  {
   "cell_type": "code",
   "execution_count": 28,
   "metadata": {},
   "outputs": [
    {
     "data": {
      "text/plain": [
       "'  Borrower added on 09/22/11 > After a rough few years financially I have a accumulated some credit card debt. Now that my job and monthly financials are stable, I would like to pay off all the cards with a lower interest loan so that I can leave them behind and make my way out of debt.<br/>null'"
      ]
     },
     "execution_count": 28,
     "metadata": {},
     "output_type": "execute_result"
    }
   ],
   "source": [
    "tr_dat.loc[2, 'desc']"
   ]
  },
  {
   "cell_type": "code",
   "execution_count": 29,
   "metadata": {},
   "outputs": [
    {
     "data": {
      "text/plain": [
       "numpy.ndarray"
      ]
     },
     "execution_count": 29,
     "metadata": {},
     "output_type": "execute_result"
    }
   ],
   "source": [
    "type(desc_words_tr)"
   ]
  },
  {
   "cell_type": "code",
   "execution_count": 30,
   "metadata": {},
   "outputs": [],
   "source": [
    "train_num_data = tr_dat.drop(columns=['desc'], inplace=False)"
   ]
  },
  {
   "cell_type": "code",
   "execution_count": 31,
   "metadata": {},
   "outputs": [],
   "source": [
    "train_y = train_num_data['y_hat']"
   ]
  },
  {
   "cell_type": "code",
   "execution_count": 32,
   "metadata": {},
   "outputs": [],
   "source": [
    "train_num_data.drop(columns=['y_hat'], inplace=True)"
   ]
  },
  {
   "cell_type": "code",
   "execution_count": 33,
   "metadata": {},
   "outputs": [
    {
     "data": {
      "text/plain": [
       "loan_amnt                              float64\n",
       "funded_amnt                            float64\n",
       "installment                            float64\n",
       "annual_inc                             float64\n",
       "delinq_2yrs                            float64\n",
       "total_pymnt                            float64\n",
       "recoveries                             float64\n",
       "last_pymnt_amnt                        float64\n",
       "acc_now_delinq                         float64\n",
       "chargeoff_within_12_mths               float64\n",
       "delinq_amnt                            float64\n",
       "term_ 36 months                        float64\n",
       "term_ 60 months                        float64\n",
       "int_rate_num                           float64\n",
       "emp_length_1 year                      float64\n",
       "emp_length_10+ years                   float64\n",
       "emp_length_2 years                     float64\n",
       "emp_length_3 years                     float64\n",
       "emp_length_4 years                     float64\n",
       "emp_length_5 years                     float64\n",
       "emp_length_6 years                     float64\n",
       "emp_length_7 years                     float64\n",
       "emp_length_8 years                     float64\n",
       "emp_length_9 years                     float64\n",
       "emp_length_< 1 year                    float64\n",
       "home_ownership_MORTGAGE                float64\n",
       "home_ownership_NONE                    float64\n",
       "home_ownership_OTHER                   float64\n",
       "home_ownership_OWN                     float64\n",
       "home_ownership_RENT                    float64\n",
       "verification_status_Not Verified       float64\n",
       "verification_status_Source Verified    float64\n",
       "verification_status_Verified           float64\n",
       "desc_len                               float64\n",
       "dtype: object"
      ]
     },
     "execution_count": 33,
     "metadata": {},
     "output_type": "execute_result"
    }
   ],
   "source": [
    "train_num_data.dtypes"
   ]
  },
  {
   "cell_type": "code",
   "execution_count": null,
   "metadata": {},
   "outputs": [],
   "source": []
  },
  {
   "cell_type": "code",
   "execution_count": 34,
   "metadata": {},
   "outputs": [
    {
     "data": {
      "text/plain": [
       "numpy.ndarray"
      ]
     },
     "execution_count": 34,
     "metadata": {},
     "output_type": "execute_result"
    }
   ],
   "source": [
    "train_y = np.array(train_y)\n",
    "type(train_y)"
   ]
  },
  {
   "cell_type": "code",
   "execution_count": 35,
   "metadata": {},
   "outputs": [
    {
     "data": {
      "text/plain": [
       "(19688,)"
      ]
     },
     "execution_count": 35,
     "metadata": {},
     "output_type": "execute_result"
    }
   ],
   "source": [
    "train_y.shape"
   ]
  },
  {
   "cell_type": "code",
   "execution_count": 36,
   "metadata": {},
   "outputs": [
    {
     "data": {
      "text/plain": [
       "numpy.ndarray"
      ]
     },
     "execution_count": 36,
     "metadata": {},
     "output_type": "execute_result"
    }
   ],
   "source": [
    "train_num_data = np.array(train_num_data)\n",
    "type(train_num_data)"
   ]
  },
  {
   "cell_type": "code",
   "execution_count": 37,
   "metadata": {},
   "outputs": [
    {
     "data": {
      "text/plain": [
       "dtype('float64')"
      ]
     },
     "execution_count": 37,
     "metadata": {},
     "output_type": "execute_result"
    }
   ],
   "source": [
    "train_num_data.dtype"
   ]
  },
  {
   "cell_type": "code",
   "execution_count": null,
   "metadata": {},
   "outputs": [],
   "source": []
  },
  {
   "cell_type": "code",
   "execution_count": 38,
   "metadata": {},
   "outputs": [],
   "source": [
    "np.savetxt( 'desc_words_tr.csv', desc_words_tr, delimiter=',' )"
   ]
  },
  {
   "cell_type": "code",
   "execution_count": 39,
   "metadata": {},
   "outputs": [],
   "source": [
    "np.savetxt( 'train_num_data.csv', train_num_data, delimiter=',' )"
   ]
  },
  {
   "cell_type": "code",
   "execution_count": 40,
   "metadata": {},
   "outputs": [],
   "source": [
    "np.savetxt( 'train_y.csv', train_y, delimiter=',' )"
   ]
  },
  {
   "cell_type": "code",
   "execution_count": null,
   "metadata": {},
   "outputs": [],
   "source": []
  },
  {
   "cell_type": "code",
   "execution_count": 41,
   "metadata": {},
   "outputs": [
    {
     "data": {
      "text/plain": [
       "'C:\\\\Users\\\\Tsenguunn'"
      ]
     },
     "execution_count": 41,
     "metadata": {},
     "output_type": "execute_result"
    }
   ],
   "source": [
    "import os\n",
    "os.getcwd()"
   ]
  },
  {
   "cell_type": "code",
   "execution_count": null,
   "metadata": {},
   "outputs": [],
   "source": []
  },
  {
   "cell_type": "code",
   "execution_count": null,
   "metadata": {},
   "outputs": [],
   "source": []
  },
  {
   "cell_type": "code",
   "execution_count": null,
   "metadata": {},
   "outputs": [],
   "source": []
  },
  {
   "cell_type": "code",
   "execution_count": null,
   "metadata": {},
   "outputs": [],
   "source": []
  },
  {
   "cell_type": "code",
   "execution_count": 42,
   "metadata": {},
   "outputs": [],
   "source": [
    "glove_path = \"C:/Users/Tsenguunn/Documents/Kaggle/pretrained embeddings glove\""
   ]
  },
  {
   "cell_type": "code",
   "execution_count": 43,
   "metadata": {},
   "outputs": [],
   "source": [
    "embedding_dict = {}\n",
    "\n",
    "with open(f\"{glove_path}/glove.6B.100d.txt\", encoding=\"utf-8\", mode='r') as f:\n",
    "    for line in f:\n",
    "        values=line.split()\n",
    "        # get the word\n",
    "        word=values[0]\n",
    "        if word in word2idx.keys():\n",
    "            # get the vector\n",
    "            vector = np.asarray(values[1:], 'float32')\n",
    "            embedding_dict[word] = vector\n"
   ]
  },
  {
   "cell_type": "code",
   "execution_count": 44,
   "metadata": {},
   "outputs": [],
   "source": [
    "#embedding_dict['debt']"
   ]
  },
  {
   "cell_type": "code",
   "execution_count": 45,
   "metadata": {},
   "outputs": [],
   "source": [
    "num_words = len(word2idx) + 1"
   ]
  },
  {
   "cell_type": "code",
   "execution_count": 46,
   "metadata": {},
   "outputs": [],
   "source": [
    "vocab_size = len(word2idx) + 1\n",
    "output_size = 1\n",
    "embedding_dim = 100"
   ]
  },
  {
   "cell_type": "code",
   "execution_count": 47,
   "metadata": {},
   "outputs": [],
   "source": [
    "from tqdm import tqdm"
   ]
  },
  {
   "cell_type": "code",
   "execution_count": 48,
   "metadata": {},
   "outputs": [],
   "source": [
    "embedding_matrix=np.zeros((num_words, embedding_dim))\n",
    "import tqdm"
   ]
  },
  {
   "cell_type": "code",
   "execution_count": 49,
   "metadata": {},
   "outputs": [
    {
     "name": "stderr",
     "output_type": "stream",
     "text": [
      "100%|██████████| 12391/12391 [00:00<00:00, 318568.73it/s]\n"
     ]
    }
   ],
   "source": [
    "for word,i in tqdm.tqdm(word2idx.items()):\n",
    "    if i < num_words:\n",
    "        vect=embedding_dict.get(word, [])\n",
    "        if len(vect)>0:\n",
    "            embedding_matrix[i] = vect[:embedding_dim]\n",
    "        \n",
    "        if word == '_UNK':\n",
    "            embedding_matrix[i] = np.ones((1, embedding_dim))\n",
    "           "
   ]
  },
  {
   "cell_type": "code",
   "execution_count": null,
   "metadata": {},
   "outputs": [],
   "source": []
  },
  {
   "cell_type": "code",
   "execution_count": 50,
   "metadata": {},
   "outputs": [],
   "source": [
    "from torch.utils.data import Dataset, DataLoader\n",
    "import torch.nn.functional as F\n",
    "import torch\n",
    "from torch.utils.data import TensorDataset, DataLoader\n",
    "import torch.nn as nn\n"
   ]
  },
  {
   "cell_type": "code",
   "execution_count": null,
   "metadata": {},
   "outputs": [],
   "source": []
  },
  {
   "cell_type": "code",
   "execution_count": 51,
   "metadata": {},
   "outputs": [],
   "source": [
    "train_data = TensorDataset(torch.from_numpy(desc_words_tr), torch.from_numpy(train_num_data), torch.from_numpy(train_y))"
   ]
  },
  {
   "cell_type": "code",
   "execution_count": 52,
   "metadata": {},
   "outputs": [],
   "source": [
    "batch_size = 32\n",
    "\n",
    "train_loader = DataLoader(train_data, shuffle=True, batch_size=batch_size, drop_last=True)"
   ]
  },
  {
   "cell_type": "code",
   "execution_count": null,
   "metadata": {},
   "outputs": [],
   "source": []
  },
  {
   "cell_type": "code",
   "execution_count": 53,
   "metadata": {},
   "outputs": [],
   "source": [
    "class Sent_Ana(nn.Module):\n",
    "    \n",
    "    def __init__( self, vocab_size, embedding_dim, hidden_dim, output_size, n_layers, seq_len, num_size, drop_prob = 0.2 ):\n",
    "        super(Sent_Ana, self).__init__()\n",
    "        self.output_size = output_size\n",
    "        self.n_layers = n_layers\n",
    "        self.hidden_dim = hidden_dim\n",
    "        \n",
    "        self.embedding = nn.Embedding( vocab_size, embedding_dim )\n",
    "        self.gru = nn.GRU( embedding_dim, hidden_dim, n_layers, dropout = drop_prob, batch_first=True )\n",
    "        self.dropout = nn.Dropout(drop_prob)\n",
    "        self.fc1 = nn.Linear( hidden_dim, output_size )\n",
    "        self.fc2 = nn.Linear( num_size, output_size )\n",
    "        self.sigmoid = nn.Sigmoid()\n",
    "        #self.fc2 = nn.Linear( hidden_dim2, output_size )\n",
    "        \n",
    "    def forward(self, x1, x2):\n",
    "        #batch_size = x.size(0)\n",
    "        x1 = x1.long()\n",
    "        x1 = self.embedding(x1)\n",
    "        #x = self.lstm( x )\n",
    "        x1, states = self.gru(x1)\n",
    "        x1 = x1.contiguous().view(-1, self.hidden_dim)\n",
    "        x1 = self.dropout(x1)\n",
    "        x1 = self.fc1( x1 )\n",
    "        #x = F.relu( x )\n",
    "        #x = self.fc2( x )\n",
    "        x2 = self.fc2( x2 )\n",
    "        x = torch.cat( (x1, x2), dim = 0 )\n",
    "        x = torch.sigmoid( x )\n",
    "        x = x.view(batch_size, -1)\n",
    "        x = x[:,-1]\n",
    "        #x = x.view(batch_size, -1)\n",
    "        return x\n",
    "    \n",
    "    "
   ]
  },
  {
   "cell_type": "code",
   "execution_count": null,
   "metadata": {},
   "outputs": [],
   "source": []
  },
  {
   "cell_type": "code",
   "execution_count": 54,
   "metadata": {},
   "outputs": [],
   "source": [
    "vocab_size = len(word2idx) + 1\n",
    "output_size = 1\n",
    "embedding_dim = 100\n",
    "hidden_dim = 32\n",
    "n_layers = 2\n",
    "hidden_dim2 = 16\n",
    "num_size = 34"
   ]
  },
  {
   "cell_type": "code",
   "execution_count": 55,
   "metadata": {},
   "outputs": [],
   "source": [
    "model = Sent_Ana( vocab_size, embedding_dim, hidden_dim,  output_size, n_layers, seq_len, num_size, drop_prob = 0.2 )\n"
   ]
  },
  {
   "cell_type": "code",
   "execution_count": 56,
   "metadata": {},
   "outputs": [
    {
     "data": {
      "text/plain": [
       "Sent_Ana(\n",
       "  (embedding): Embedding(12392, 100)\n",
       "  (gru): GRU(100, 32, num_layers=2, batch_first=True, dropout=0.2)\n",
       "  (dropout): Dropout(p=0.2, inplace=False)\n",
       "  (fc1): Linear(in_features=32, out_features=1, bias=True)\n",
       "  (fc2): Linear(in_features=34, out_features=1, bias=True)\n",
       "  (sigmoid): Sigmoid()\n",
       ")"
      ]
     },
     "execution_count": 56,
     "metadata": {},
     "output_type": "execute_result"
    }
   ],
   "source": [
    "model.train()"
   ]
  },
  {
   "cell_type": "code",
   "execution_count": null,
   "metadata": {},
   "outputs": [],
   "source": []
  },
  {
   "cell_type": "code",
   "execution_count": 57,
   "metadata": {},
   "outputs": [
    {
     "data": {
      "text/plain": [
       "True"
      ]
     },
     "execution_count": 57,
     "metadata": {},
     "output_type": "execute_result"
    }
   ],
   "source": [
    "model.embedding.weight.data = torch.from_numpy( embedding_matrix ).float()\n",
    "model.embedding.weight.requires_grad = True\n",
    "model.embedding.weight.requires_grad"
   ]
  },
  {
   "cell_type": "code",
   "execution_count": null,
   "metadata": {},
   "outputs": [],
   "source": []
  },
  {
   "cell_type": "code",
   "execution_count": 58,
   "metadata": {},
   "outputs": [],
   "source": [
    "optimizer_fit = torch.optim.Adam(model.parameters(), lr=0.001)"
   ]
  },
  {
   "cell_type": "code",
   "execution_count": null,
   "metadata": {},
   "outputs": [],
   "source": []
  },
  {
   "cell_type": "code",
   "execution_count": 59,
   "metadata": {},
   "outputs": [],
   "source": [
    "criterion = torch.nn.BCELoss()"
   ]
  },
  {
   "cell_type": "code",
   "execution_count": null,
   "metadata": {},
   "outputs": [],
   "source": []
  },
  {
   "cell_type": "code",
   "execution_count": 60,
   "metadata": {},
   "outputs": [],
   "source": [
    "LOSS = {}\n",
    "LOSS['training data'] = []\n",
    "LOSS['validation data'] = []"
   ]
  },
  {
   "cell_type": "code",
   "execution_count": null,
   "metadata": {},
   "outputs": [],
   "source": []
  },
  {
   "cell_type": "code",
   "execution_count": 61,
   "metadata": {},
   "outputs": [
    {
     "name": "stderr",
     "output_type": "stream",
     "text": [
      "C:\\Users\\Tsenguunn\\AppData\\Local\\Temp\\ipykernel_179936\\2082474432.py:7: UserWarning: To copy construct from a tensor, it is recommended to use sourceTensor.clone().detach() or sourceTensor.clone().detach().requires_grad_(True), rather than torch.tensor(sourceTensor).\n",
      "  y = torch.tensor(y, dtype=torch.float)\n",
      "C:\\Users\\Tsenguunn\\AppData\\Local\\Temp\\ipykernel_179936\\2082474432.py:9: UserWarning: To copy construct from a tensor, it is recommended to use sourceTensor.clone().detach() or sourceTensor.clone().detach().requires_grad_(True), rather than torch.tensor(sourceTensor).\n",
      "  x1 = torch.tensor(x1, dtype=torch.float)\n",
      "C:\\Users\\Tsenguunn\\AppData\\Local\\Temp\\ipykernel_179936\\2082474432.py:10: UserWarning: To copy construct from a tensor, it is recommended to use sourceTensor.clone().detach() or sourceTensor.clone().detach().requires_grad_(True), rather than torch.tensor(sourceTensor).\n",
      "  x2 = torch.tensor(x2, dtype=torch.float)\n"
     ]
    },
    {
     "name": "stdout",
     "output_type": "stream",
     "text": [
      "Epoch: 0 and Loss: 3.5038347244262695\n",
      "Epoch: 1 and Loss: 3.3759231567382812\n",
      "Epoch: 2 and Loss: 3.7900702953338623\n",
      "Epoch: 3 and Loss: 3.395014524459839\n",
      "Epoch: 4 and Loss: 0.41588208079338074\n",
      "Epoch: 5 and Loss: 3.410327672958374\n",
      "Epoch: 6 and Loss: 3.5040171146392822\n",
      "Epoch: 7 and Loss: 3.4387919902801514\n",
      "Epoch: 8 and Loss: 0.39426344633102417\n",
      "Epoch: 9 and Loss: 0.3638418912887573\n"
     ]
    }
   ],
   "source": [
    "epochs = 10\n",
    "\n",
    "def train_model(epochs):\n",
    "    \n",
    "    for epoch in range(epochs):\n",
    "        for x1, x2, y in train_loader:\n",
    "            y = torch.tensor(y, dtype=torch.float)\n",
    "            optimizer_fit.zero_grad()\n",
    "            x1 = torch.tensor(x1, dtype=torch.float)\n",
    "            x2 = torch.tensor(x2, dtype=torch.float)\n",
    "            yhat = model(x1, x2)\n",
    "            #print( y.shape )\n",
    "            #print( yhat.shape )\n",
    "            #print( x.shape )\n",
    "            loss = criterion(yhat, y)\n",
    "            optimizer_fit.zero_grad()\n",
    "            loss.backward()\n",
    "            optimizer_fit.step()\n",
    "        \n",
    "        print('Epoch: {} and Loss: {}'.format(epoch, loss.item()))\n",
    "        LOSS['training data'].append(loss.item())\n",
    " \n",
    "        \n",
    "train_model(epochs)"
   ]
  },
  {
   "cell_type": "code",
   "execution_count": null,
   "metadata": {},
   "outputs": [],
   "source": []
  },
  {
   "cell_type": "code",
   "execution_count": 62,
   "metadata": {},
   "outputs": [
    {
     "data": {
      "text/plain": [
       "Index(['loan_amnt', 'funded_amnt', 'installment', 'annual_inc', 'desc',\n",
       "       'delinq_2yrs', 'total_pymnt', 'recoveries', 'last_pymnt_amnt',\n",
       "       'acc_now_delinq', 'chargeoff_within_12_mths', 'delinq_amnt', 'y_hat',\n",
       "       'term_ 36 months', 'term_ 60 months', 'int_rate_num',\n",
       "       'emp_length_1 year', 'emp_length_10+ years', 'emp_length_2 years',\n",
       "       'emp_length_3 years', 'emp_length_4 years', 'emp_length_5 years',\n",
       "       'emp_length_6 years', 'emp_length_7 years', 'emp_length_8 years',\n",
       "       'emp_length_9 years', 'emp_length_< 1 year', 'home_ownership_MORTGAGE',\n",
       "       'home_ownership_NONE', 'home_ownership_OTHER', 'home_ownership_OWN',\n",
       "       'home_ownership_RENT', 'verification_status_Not Verified',\n",
       "       'verification_status_Source Verified', 'verification_status_Verified'],\n",
       "      dtype='object')"
      ]
     },
     "execution_count": 62,
     "metadata": {},
     "output_type": "execute_result"
    }
   ],
   "source": [
    "val_dat.columns"
   ]
  },
  {
   "cell_type": "code",
   "execution_count": null,
   "metadata": {},
   "outputs": [],
   "source": []
  },
  {
   "cell_type": "code",
   "execution_count": 63,
   "metadata": {},
   "outputs": [],
   "source": [
    "len_val = val_dat.shape[0]\n",
    "#words = Counter()\n",
    "val_words = []"
   ]
  },
  {
   "cell_type": "code",
   "execution_count": 64,
   "metadata": {},
   "outputs": [],
   "source": [
    "val_dat.reset_index(drop=True, inplace=True)"
   ]
  },
  {
   "cell_type": "code",
   "execution_count": 65,
   "metadata": {},
   "outputs": [],
   "source": [
    "for i in range(len_val):\n",
    "    \n",
    "    \n",
    "    token_list = []\n",
    "    ind = -1\n",
    "    \n",
    "    val1 = nlp(val_dat['desc'][i])\n",
    "    \n",
    "    for i, token in enumerate(val1):\n",
    "        if i >= 5:\n",
    "            tmp = token.text\n",
    "            tmp = tmp.replace(\"<br\", \"\")\n",
    "            tmp = tmp.replace(\"br/\", \"\")\n",
    "            tmp = tmp.replace(\"/\", \"\")\n",
    "            tmp = tmp.replace(\">\", \"\")\n",
    "            tmp = tmp.replace(\"%\", \"\")\n",
    "            if ( not is_number(tmp) ) and (tmp != '') and (tmp != ' ') and (tmp != '  ') and (tmp != '<') and (tmp != 'br') and (tmp != '/') and (tmp != '(') and (tmp != ')') and (tmp != '&') and (tmp != '*'):\n",
    "            \n",
    "                if tmp == \"Borrower\":\n",
    "                    ind = i + 3\n",
    "                if  i > ind:\n",
    "                    if (tmp[-1] == \".\") and (len(tmp) >=2):\n",
    "                        token_list.extend( [tmp[:-1].lower(), tmp[-1]] )\n",
    "                        #word = tmp[:-1]\n",
    "                        #words.update( [word.lower()] )\n",
    "                    else:\n",
    "                        token_list.append( tmp.lower() )\n",
    "                        #word = tmp\n",
    "                        #words.update( [word.lower()] )\n",
    "                        \n",
    "    val_words.append(token_list)"
   ]
  },
  {
   "cell_type": "code",
   "execution_count": 66,
   "metadata": {},
   "outputs": [
    {
     "name": "stderr",
     "output_type": "stream",
     "text": [
      "C:\\Users\\Tsenguunn\\AppData\\Local\\Temp\\ipykernel_179936\\1704610499.py:4: SettingWithCopyWarning: \n",
      "A value is trying to be set on a copy of a slice from a DataFrame.\n",
      "Try using .loc[row_indexer,col_indexer] = value instead\n",
      "\n",
      "See the caveats in the documentation: https://pandas.pydata.org/pandas-docs/stable/user_guide/indexing.html#returning-a-view-versus-a-copy\n",
      "  val_dat.loc[i, 'desc_len'] = len(sentence)\n"
     ]
    }
   ],
   "source": [
    "for i, sentence in enumerate(val_words):\n",
    "    # Looking up the mapping dictionary and assigning the index to the respective words\n",
    "    val_words[i] = [word2idx[word] if word in word2idx else 1 for word in sentence]\n",
    "    val_dat.loc[i, 'desc_len'] = len(sentence)"
   ]
  },
  {
   "cell_type": "code",
   "execution_count": 67,
   "metadata": {},
   "outputs": [],
   "source": [
    "val_words = pad_input(val_words, seq_len)"
   ]
  },
  {
   "cell_type": "code",
   "execution_count": 68,
   "metadata": {},
   "outputs": [
    {
     "data": {
      "text/plain": [
       "numpy.ndarray"
      ]
     },
     "execution_count": 68,
     "metadata": {},
     "output_type": "execute_result"
    }
   ],
   "source": [
    "type(val_words)"
   ]
  },
  {
   "cell_type": "code",
   "execution_count": 69,
   "metadata": {},
   "outputs": [
    {
     "data": {
      "text/plain": [
       "(4218, 300)"
      ]
     },
     "execution_count": 69,
     "metadata": {},
     "output_type": "execute_result"
    }
   ],
   "source": [
    "val_words.shape"
   ]
  },
  {
   "cell_type": "code",
   "execution_count": 70,
   "metadata": {},
   "outputs": [],
   "source": [
    "val_y = np.array( val_dat['y_hat'].values )"
   ]
  },
  {
   "cell_type": "code",
   "execution_count": 71,
   "metadata": {},
   "outputs": [
    {
     "name": "stderr",
     "output_type": "stream",
     "text": [
      "C:\\Users\\Tsenguunn\\AppData\\Local\\Temp\\ipykernel_179936\\319868131.py:1: SettingWithCopyWarning: \n",
      "A value is trying to be set on a copy of a slice from a DataFrame\n",
      "\n",
      "See the caveats in the documentation: https://pandas.pydata.org/pandas-docs/stable/user_guide/indexing.html#returning-a-view-versus-a-copy\n",
      "  val_dat.drop( columns=['y_hat'], inplace=True )\n"
     ]
    }
   ],
   "source": [
    "val_dat.drop( columns=['y_hat'], inplace=True )"
   ]
  },
  {
   "cell_type": "code",
   "execution_count": null,
   "metadata": {},
   "outputs": [],
   "source": []
  },
  {
   "cell_type": "code",
   "execution_count": 72,
   "metadata": {},
   "outputs": [
    {
     "data": {
      "text/plain": [
       "array([  0,   0,   0,   0,   0,   0,   0,   0,   0,   0,   0,   0,   0,\n",
       "         0,   0,   0,   0,   0,   0,   0,   0,   0,   0,   0,   0,   0,\n",
       "         0,   0,   0,   0,   0,   0,   0,   0,   0,   0,   0,   0,   0,\n",
       "         0,   0,   0,   0,   0,   0,   0,   0,   0,   0,   0,   0,   0,\n",
       "         0,   0,   0,   0,   0,   0,   0,   0,   0,   0,   0,   0,   0,\n",
       "         0,   0,   0,   0,   0,   0,   0,   0,   0,   0,   0,   0,   0,\n",
       "         0,   0,   0,   0,   0,   0,   0,   0,   0,   0,   0,   0,   0,\n",
       "         0,   0,   0,   0,   0,   0,   0,   0,   0,   0,   0,   0,   0,\n",
       "         0,   0,   0,   0,   0,   0,   0,   0,   0,   0,   0,   0,   0,\n",
       "         0,   0,   0,   0,   0,   0,   0,   0,   0,   0,   0,   0,   0,\n",
       "         0,   0,   0,   0,   0,   0,   0,   0,   0,   0,   0,   0,   0,\n",
       "         0,   0,   0,   0,   0,   0,   0,   0,   0,   0,   0,   0,   0,\n",
       "         0,   0,   0,   0,   0,   0,   0,   0,   0,   0,   0,   0,   0,\n",
       "         0,   0,   0,   0,   0,   0,   0,   0,   0,   0,   0,   0,   0,\n",
       "         0,   0,   0,   0,   0,   0,   0,   0,   0,   0,   0,   0,   0,\n",
       "         0,   0,   0,   0,   0,   0,   0,   0,   0,   0,   0,   0,   0,\n",
       "         0,   0,   0,   0,   0,   0,   0,   0,   0,   0,   0,   0,   0,\n",
       "         0,   0,   0,   0,   0,   0,   0,   0,   0,   0,   0,   0,   0,\n",
       "         0,   0,   0,   0,   0,   0,   0,   0,   0,   0,   0,   0,   0,\n",
       "         0,   0,   0,   0,   0,   0,   0,   0,   0,   0,   0,   0,   0,\n",
       "         0,   0,   0,   0,   0,   0,   0,   0,   0,   0,   0,   0,   0,\n",
       "         0,   0,   0,   0,   0,   0,   0,   0,   0,   0,   0,   0,   2,\n",
       "        24, 170,   4,  19,  25, 264,  14,  23,  87,   7, 190,  34,  55,\n",
       "         3])"
      ]
     },
     "execution_count": 72,
     "metadata": {},
     "output_type": "execute_result"
    }
   ],
   "source": [
    "val_words[2]"
   ]
  },
  {
   "cell_type": "code",
   "execution_count": 73,
   "metadata": {},
   "outputs": [
    {
     "data": {
      "text/plain": [
       "'  Borrower added on 08/29/11 > I am going to pay off another loan that has a higher interest rate.<br/>'"
      ]
     },
     "execution_count": 73,
     "metadata": {},
     "output_type": "execute_result"
    }
   ],
   "source": [
    "val_dat.loc[2, 'desc']"
   ]
  },
  {
   "cell_type": "code",
   "execution_count": 74,
   "metadata": {},
   "outputs": [
    {
     "data": {
      "text/plain": [
       "['_PAD',\n",
       " '_PAD',\n",
       " '_PAD',\n",
       " '_PAD',\n",
       " '_PAD',\n",
       " '_PAD',\n",
       " '_PAD',\n",
       " '_PAD',\n",
       " '_PAD',\n",
       " '_PAD',\n",
       " '_PAD',\n",
       " '_PAD',\n",
       " '_PAD',\n",
       " '_PAD',\n",
       " '_PAD',\n",
       " '_PAD',\n",
       " '_PAD',\n",
       " '_PAD',\n",
       " '_PAD',\n",
       " '_PAD',\n",
       " '_PAD',\n",
       " '_PAD',\n",
       " '_PAD',\n",
       " '_PAD',\n",
       " '_PAD',\n",
       " '_PAD',\n",
       " '_PAD',\n",
       " '_PAD',\n",
       " '_PAD',\n",
       " '_PAD',\n",
       " '_PAD',\n",
       " '_PAD',\n",
       " '_PAD',\n",
       " '_PAD',\n",
       " '_PAD',\n",
       " '_PAD',\n",
       " '_PAD',\n",
       " '_PAD',\n",
       " '_PAD',\n",
       " '_PAD',\n",
       " '_PAD',\n",
       " '_PAD',\n",
       " '_PAD',\n",
       " '_PAD',\n",
       " '_PAD',\n",
       " '_PAD',\n",
       " '_PAD',\n",
       " '_PAD',\n",
       " '_PAD',\n",
       " '_PAD',\n",
       " '_PAD',\n",
       " '_PAD',\n",
       " '_PAD',\n",
       " '_PAD',\n",
       " '_PAD',\n",
       " '_PAD',\n",
       " '_PAD',\n",
       " '_PAD',\n",
       " '_PAD',\n",
       " '_PAD',\n",
       " '_PAD',\n",
       " '_PAD',\n",
       " '_PAD',\n",
       " '_PAD',\n",
       " '_PAD',\n",
       " '_PAD',\n",
       " '_PAD',\n",
       " '_PAD',\n",
       " '_PAD',\n",
       " '_PAD',\n",
       " '_PAD',\n",
       " '_PAD',\n",
       " '_PAD',\n",
       " '_PAD',\n",
       " '_PAD',\n",
       " '_PAD',\n",
       " '_PAD',\n",
       " '_PAD',\n",
       " '_PAD',\n",
       " '_PAD',\n",
       " '_PAD',\n",
       " '_PAD',\n",
       " '_PAD',\n",
       " '_PAD',\n",
       " '_PAD',\n",
       " '_PAD',\n",
       " '_PAD',\n",
       " '_PAD',\n",
       " '_PAD',\n",
       " '_PAD',\n",
       " '_PAD',\n",
       " '_PAD',\n",
       " '_PAD',\n",
       " '_PAD',\n",
       " '_PAD',\n",
       " '_PAD',\n",
       " '_PAD',\n",
       " '_PAD',\n",
       " '_PAD',\n",
       " '_PAD',\n",
       " '_PAD',\n",
       " '_PAD',\n",
       " '_PAD',\n",
       " '_PAD',\n",
       " '_PAD',\n",
       " '_PAD',\n",
       " '_PAD',\n",
       " '_PAD',\n",
       " '_PAD',\n",
       " '_PAD',\n",
       " '_PAD',\n",
       " '_PAD',\n",
       " '_PAD',\n",
       " '_PAD',\n",
       " '_PAD',\n",
       " '_PAD',\n",
       " '_PAD',\n",
       " '_PAD',\n",
       " '_PAD',\n",
       " '_PAD',\n",
       " '_PAD',\n",
       " '_PAD',\n",
       " '_PAD',\n",
       " '_PAD',\n",
       " '_PAD',\n",
       " '_PAD',\n",
       " '_PAD',\n",
       " '_PAD',\n",
       " '_PAD',\n",
       " '_PAD',\n",
       " '_PAD',\n",
       " '_PAD',\n",
       " '_PAD',\n",
       " '_PAD',\n",
       " '_PAD',\n",
       " '_PAD',\n",
       " '_PAD',\n",
       " '_PAD',\n",
       " '_PAD',\n",
       " '_PAD',\n",
       " '_PAD',\n",
       " '_PAD',\n",
       " '_PAD',\n",
       " '_PAD',\n",
       " '_PAD',\n",
       " '_PAD',\n",
       " '_PAD',\n",
       " '_PAD',\n",
       " '_PAD',\n",
       " '_PAD',\n",
       " '_PAD',\n",
       " '_PAD',\n",
       " '_PAD',\n",
       " '_PAD',\n",
       " '_PAD',\n",
       " '_PAD',\n",
       " '_PAD',\n",
       " '_PAD',\n",
       " '_PAD',\n",
       " '_PAD',\n",
       " '_PAD',\n",
       " '_PAD',\n",
       " '_PAD',\n",
       " '_PAD',\n",
       " '_PAD',\n",
       " '_PAD',\n",
       " '_PAD',\n",
       " '_PAD',\n",
       " '_PAD',\n",
       " '_PAD',\n",
       " '_PAD',\n",
       " '_PAD',\n",
       " '_PAD',\n",
       " '_PAD',\n",
       " '_PAD',\n",
       " '_PAD',\n",
       " '_PAD',\n",
       " '_PAD',\n",
       " '_PAD',\n",
       " '_PAD',\n",
       " '_PAD',\n",
       " '_PAD',\n",
       " '_PAD',\n",
       " '_PAD',\n",
       " '_PAD',\n",
       " '_PAD',\n",
       " '_PAD',\n",
       " '_PAD',\n",
       " '_PAD',\n",
       " '_PAD',\n",
       " '_PAD',\n",
       " '_PAD',\n",
       " '_PAD',\n",
       " '_PAD',\n",
       " '_PAD',\n",
       " '_PAD',\n",
       " '_PAD',\n",
       " '_PAD',\n",
       " '_PAD',\n",
       " '_PAD',\n",
       " '_PAD',\n",
       " '_PAD',\n",
       " '_PAD',\n",
       " '_PAD',\n",
       " '_PAD',\n",
       " '_PAD',\n",
       " '_PAD',\n",
       " '_PAD',\n",
       " '_PAD',\n",
       " '_PAD',\n",
       " '_PAD',\n",
       " '_PAD',\n",
       " '_PAD',\n",
       " '_PAD',\n",
       " '_PAD',\n",
       " '_PAD',\n",
       " '_PAD',\n",
       " '_PAD',\n",
       " '_PAD',\n",
       " '_PAD',\n",
       " '_PAD',\n",
       " '_PAD',\n",
       " '_PAD',\n",
       " '_PAD',\n",
       " '_PAD',\n",
       " '_PAD',\n",
       " '_PAD',\n",
       " '_PAD',\n",
       " '_PAD',\n",
       " '_PAD',\n",
       " '_PAD',\n",
       " '_PAD',\n",
       " '_PAD',\n",
       " '_PAD',\n",
       " '_PAD',\n",
       " '_PAD',\n",
       " '_PAD',\n",
       " '_PAD',\n",
       " '_PAD',\n",
       " '_PAD',\n",
       " '_PAD',\n",
       " '_PAD',\n",
       " '_PAD',\n",
       " '_PAD',\n",
       " '_PAD',\n",
       " '_PAD',\n",
       " '_PAD',\n",
       " '_PAD',\n",
       " '_PAD',\n",
       " '_PAD',\n",
       " '_PAD',\n",
       " '_PAD',\n",
       " '_PAD',\n",
       " '_PAD',\n",
       " '_PAD',\n",
       " '_PAD',\n",
       " '_PAD',\n",
       " '_PAD',\n",
       " '_PAD',\n",
       " '_PAD',\n",
       " '_PAD',\n",
       " '_PAD',\n",
       " '_PAD',\n",
       " '_PAD',\n",
       " '_PAD',\n",
       " '_PAD',\n",
       " '_PAD',\n",
       " '_PAD',\n",
       " '_PAD',\n",
       " '_PAD',\n",
       " '_PAD',\n",
       " '_PAD',\n",
       " '_PAD',\n",
       " '_PAD',\n",
       " '_PAD',\n",
       " '_PAD',\n",
       " '_PAD',\n",
       " '_PAD',\n",
       " '_PAD',\n",
       " '_PAD',\n",
       " '_PAD',\n",
       " '_PAD',\n",
       " '_PAD',\n",
       " '_PAD',\n",
       " '_PAD',\n",
       " 'i',\n",
       " 'am',\n",
       " 'going',\n",
       " 'to',\n",
       " 'pay',\n",
       " 'off',\n",
       " 'another',\n",
       " 'loan',\n",
       " 'that',\n",
       " 'has',\n",
       " 'a',\n",
       " 'higher',\n",
       " 'interest',\n",
       " 'rate',\n",
       " '.']"
      ]
     },
     "execution_count": 74,
     "metadata": {},
     "output_type": "execute_result"
    }
   ],
   "source": [
    "[idx2word[ww] for ww in val_words[2]]"
   ]
  },
  {
   "cell_type": "code",
   "execution_count": null,
   "metadata": {},
   "outputs": [],
   "source": []
  },
  {
   "cell_type": "code",
   "execution_count": 75,
   "metadata": {},
   "outputs": [
    {
     "name": "stderr",
     "output_type": "stream",
     "text": [
      "C:\\Users\\Tsenguunn\\AppData\\Local\\Temp\\ipykernel_179936\\2714905428.py:1: SettingWithCopyWarning: \n",
      "A value is trying to be set on a copy of a slice from a DataFrame\n",
      "\n",
      "See the caveats in the documentation: https://pandas.pydata.org/pandas-docs/stable/user_guide/indexing.html#returning-a-view-versus-a-copy\n",
      "  val_dat.drop( columns=['desc'], inplace=True )\n"
     ]
    }
   ],
   "source": [
    "val_dat.drop( columns=['desc'], inplace=True )"
   ]
  },
  {
   "cell_type": "code",
   "execution_count": 76,
   "metadata": {},
   "outputs": [
    {
     "data": {
      "text/plain": [
       "loan_amnt                              float64\n",
       "funded_amnt                            float64\n",
       "installment                            float64\n",
       "annual_inc                             float64\n",
       "delinq_2yrs                            float64\n",
       "total_pymnt                            float64\n",
       "recoveries                             float64\n",
       "last_pymnt_amnt                        float64\n",
       "acc_now_delinq                         float64\n",
       "chargeoff_within_12_mths               float64\n",
       "delinq_amnt                            float64\n",
       "term_ 36 months                        float64\n",
       "term_ 60 months                        float64\n",
       "int_rate_num                           float64\n",
       "emp_length_1 year                      float64\n",
       "emp_length_10+ years                   float64\n",
       "emp_length_2 years                     float64\n",
       "emp_length_3 years                     float64\n",
       "emp_length_4 years                     float64\n",
       "emp_length_5 years                     float64\n",
       "emp_length_6 years                     float64\n",
       "emp_length_7 years                     float64\n",
       "emp_length_8 years                     float64\n",
       "emp_length_9 years                     float64\n",
       "emp_length_< 1 year                    float64\n",
       "home_ownership_MORTGAGE                float64\n",
       "home_ownership_NONE                    float64\n",
       "home_ownership_OTHER                   float64\n",
       "home_ownership_OWN                     float64\n",
       "home_ownership_RENT                    float64\n",
       "verification_status_Not Verified       float64\n",
       "verification_status_Source Verified    float64\n",
       "verification_status_Verified           float64\n",
       "desc_len                               float64\n",
       "dtype: object"
      ]
     },
     "execution_count": 76,
     "metadata": {},
     "output_type": "execute_result"
    }
   ],
   "source": [
    "val_dat.dtypes"
   ]
  },
  {
   "cell_type": "code",
   "execution_count": 79,
   "metadata": {},
   "outputs": [
    {
     "data": {
      "text/plain": [
       "(4218, 34)"
      ]
     },
     "execution_count": 79,
     "metadata": {},
     "output_type": "execute_result"
    }
   ],
   "source": [
    "validation_num_data.shape"
   ]
  },
  {
   "cell_type": "code",
   "execution_count": 78,
   "metadata": {},
   "outputs": [],
   "source": [
    "validation_num_data = np.array(val_dat)"
   ]
  },
  {
   "cell_type": "code",
   "execution_count": null,
   "metadata": {},
   "outputs": [],
   "source": []
  },
  {
   "cell_type": "code",
   "execution_count": 80,
   "metadata": {},
   "outputs": [],
   "source": [
    "np.savetxt( 'val_words.csv', val_words, delimiter=',' )"
   ]
  },
  {
   "cell_type": "code",
   "execution_count": 81,
   "metadata": {},
   "outputs": [],
   "source": [
    "np.savetxt( 'val_y.csv', val_y, delimiter=',' )"
   ]
  },
  {
   "cell_type": "code",
   "execution_count": 82,
   "metadata": {},
   "outputs": [],
   "source": [
    "np.savetxt( 'validation_num_data.csv', validation_num_data, delimiter=',' )"
   ]
  },
  {
   "cell_type": "code",
   "execution_count": null,
   "metadata": {},
   "outputs": [],
   "source": []
  },
  {
   "cell_type": "code",
   "execution_count": 83,
   "metadata": {},
   "outputs": [],
   "source": [
    "validation_data = TensorDataset(torch.from_numpy(val_words), torch.from_numpy(validation_num_data), torch.from_numpy(val_y))"
   ]
  },
  {
   "cell_type": "code",
   "execution_count": 84,
   "metadata": {},
   "outputs": [],
   "source": [
    "val_loader = DataLoader(validation_data, shuffle=True, batch_size=batch_size, drop_last=True)"
   ]
  },
  {
   "cell_type": "code",
   "execution_count": null,
   "metadata": {},
   "outputs": [],
   "source": []
  },
  {
   "cell_type": "code",
   "execution_count": 85,
   "metadata": {},
   "outputs": [
    {
     "name": "stderr",
     "output_type": "stream",
     "text": [
      "C:\\Users\\Tsenguunn\\AppData\\Local\\Temp\\ipykernel_179936\\4007162349.py:6: UserWarning: To copy construct from a tensor, it is recommended to use sourceTensor.clone().detach() or sourceTensor.clone().detach().requires_grad_(True), rather than torch.tensor(sourceTensor).\n",
      "  y = torch.tensor(y, dtype=torch.float)\n",
      "C:\\Users\\Tsenguunn\\AppData\\Local\\Temp\\ipykernel_179936\\4007162349.py:8: UserWarning: To copy construct from a tensor, it is recommended to use sourceTensor.clone().detach() or sourceTensor.clone().detach().requires_grad_(True), rather than torch.tensor(sourceTensor).\n",
      "  x1 = torch.tensor(x1, dtype=torch.float)\n",
      "C:\\Users\\Tsenguunn\\AppData\\Local\\Temp\\ipykernel_179936\\4007162349.py:9: UserWarning: To copy construct from a tensor, it is recommended to use sourceTensor.clone().detach() or sourceTensor.clone().detach().requires_grad_(True), rather than torch.tensor(sourceTensor).\n",
      "  x2 = torch.tensor(x2, dtype=torch.float)\n"
     ]
    },
    {
     "name": "stdout",
     "output_type": "stream",
     "text": [
      "Test loss: 3.270\n",
      "Test accuracy: 82.243%\n"
     ]
    }
   ],
   "source": [
    "model.eval()\n",
    "num_correct = 0\n",
    "\n",
    "for x1, x2, y in val_loader:\n",
    "    \n",
    "    y = torch.tensor(y, dtype=torch.float)\n",
    "    optimizer_fit.zero_grad()\n",
    "    x1 = torch.tensor(x1, dtype=torch.float)\n",
    "    x2 = torch.tensor(x2, dtype=torch.float)\n",
    "    yhat = model(x1, x2)\n",
    "    loss = criterion(yhat, y)\n",
    "    LOSS['validation data'].append(loss.item())\n",
    "    pred = torch.round(yhat.squeeze())  # Rounds the output to 0/1\n",
    "    correct_tensor = pred.eq(y.float().view_as(pred))\n",
    "    correct = np.squeeze(correct_tensor.cpu().numpy())\n",
    "    num_correct += np.sum(correct)\n",
    "\n",
    "print(\"Test loss: {:.3f}\".format(np.mean(LOSS['validation data'])))\n",
    "val_acc = num_correct/len(val_loader.dataset)\n",
    "print(\"Test accuracy: {:.3f}%\".format(val_acc*100))"
   ]
  },
  {
   "cell_type": "code",
   "execution_count": null,
   "metadata": {},
   "outputs": [],
   "source": []
  },
  {
   "cell_type": "code",
   "execution_count": null,
   "metadata": {},
   "outputs": [],
   "source": []
  },
  {
   "cell_type": "code",
   "execution_count": null,
   "metadata": {},
   "outputs": [],
   "source": [
    "# Pre-trained embedding weights - requried_grad = False\n",
    "# Test loss: 0.870\n",
    "# Test accuracy: 84.116%"
   ]
  },
  {
   "cell_type": "code",
   "execution_count": null,
   "metadata": {},
   "outputs": [],
   "source": []
  },
  {
   "cell_type": "code",
   "execution_count": null,
   "metadata": {},
   "outputs": [],
   "source": []
  },
  {
   "cell_type": "code",
   "execution_count": null,
   "metadata": {},
   "outputs": [],
   "source": []
  },
  {
   "cell_type": "code",
   "execution_count": null,
   "metadata": {},
   "outputs": [],
   "source": []
  },
  {
   "cell_type": "code",
   "execution_count": null,
   "metadata": {},
   "outputs": [],
   "source": []
  },
  {
   "cell_type": "code",
   "execution_count": null,
   "metadata": {},
   "outputs": [],
   "source": []
  },
  {
   "cell_type": "code",
   "execution_count": null,
   "metadata": {},
   "outputs": [],
   "source": []
  },
  {
   "cell_type": "code",
   "execution_count": null,
   "metadata": {},
   "outputs": [],
   "source": []
  },
  {
   "cell_type": "code",
   "execution_count": null,
   "metadata": {},
   "outputs": [],
   "source": []
  },
  {
   "cell_type": "code",
   "execution_count": null,
   "metadata": {},
   "outputs": [],
   "source": []
  },
  {
   "cell_type": "code",
   "execution_count": null,
   "metadata": {},
   "outputs": [],
   "source": []
  }
 ],
 "metadata": {
  "kernelspec": {
   "display_name": "Python 3 (ipykernel)",
   "language": "python",
   "name": "python3"
  },
  "language_info": {
   "codemirror_mode": {
    "name": "ipython",
    "version": 3
   },
   "file_extension": ".py",
   "mimetype": "text/x-python",
   "name": "python",
   "nbconvert_exporter": "python",
   "pygments_lexer": "ipython3",
   "version": "3.9.13"
  }
 },
 "nbformat": 4,
 "nbformat_minor": 2
}
